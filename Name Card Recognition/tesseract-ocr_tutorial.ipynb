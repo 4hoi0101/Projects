{
 "cells": [
  {
   "cell_type": "markdown",
   "metadata": {},
   "source": [
    "# Tesseract-OCR Tutorial"
   ]
  },
  {
   "cell_type": "code",
   "execution_count": 11,
   "metadata": {},
   "outputs": [],
   "source": [
    "import pytesseract\n",
    "from PIL import Image"
   ]
  },
  {
   "cell_type": "code",
   "execution_count": 18,
   "metadata": {},
   "outputs": [
    {
     "name": "stdout",
     "output_type": "stream",
     "text": [
      "이 마 로 글 산 정 （０５２ ２２０\n",
      "\n",
      "9m8〔 〔 20섭_86_6°813 융l캅효48\n",
      "\n",
      "물 산 팜 역시\n",
      "\n",
      "영 수 증 미 지 참 시\n",
      "교 환 / 환 불 갸\n",
      "\n",
      "※ 정 상 상 품에 한 함 , 30초0룹|(신._ 7딕릎\n",
      "드 지참\n",
      "\n",
      "교 환 / 휜 블 구 매 점 에 서 7}능(겉재카\n",
      "프호 매]2이뭄_02、 １１１２５4 뷰06:1013-27흔58\n",
      "『。델。\"\\“\"\"\"쥴^。드도눌_푸륵_._\"글 여 ．\n",
      "아아 ０ 어 78 １ 얼\n",
      "※０２ 히 트 켤 내 의 _7,98０ １００\n",
      "데 이 즈 무 형 광 남 아 내 의 _7,98０ １ 7１98０\n",
      "즈 ２ 히 트 핍 -３．99０ ．\n",
      "데 이 즈 무 혐 광 납 이 내 의 79０ ㅓ １9０\n",
      "드 빕 -３,99０\n",
      "\n",
      ":※０ 히 트\n",
      "\n",
      "． 데 이 즈 여 이 내 복 １ 호 ． 798０ １ 7０００\n",
      "초 ０ 히 트 띤 ` ． -３．99０\n",
      "． 티요슐립실내눅얀끄삐- ５．9００ １ ５．9００\n",
      "\n",
      "． 으 이 온 고 래 빔 부 음 양 １,５6０ １\n",
      "． 미 이 키 페 리 떼 마 일 드 ． １,．１５０ ) ５０ ．\n",
      "이미이]^^|지160헵륵~ １． １０００\n",
      "그 라 운 참 쌀 선 과 ２５３9． ３３8０ ． １\n",
      "\n",
      "l그끝〕m0:±답바니니10m １\n",
      "\n",
      "   \n",
      "   \n",
      "  \n",
      "   \n",
      "\n",
      "１５) 아 둥 7 죽 블 ‥ ． 7０8 １ :．7．０8．\n",
      "\n",
      "．※ 。삐헬북히쿵 부 침 기 의 - 8３０98０ １ ．３１98０．\n",
      "아 보 아 로 조 입 ０ ０ ００２０8０ １００ ２０8００\n",
      "\n",
      "* 81밝 딸기 7009/박^ ２ 9１０００ ㅓ ㆍ 94０００\n",
      "\n",
      "ː 7) 면 새 물 품 １7．３０\n",
      "\n",
      "． 과 세 불품 ３５１9\n",
      "\n",
      "． 부 가 세 ３．69\n",
      "7 합 게 ５０．１9０\n",
      "_ 켜 제 대 상급 레 ‥ … ５7１9０\n",
      "8 히 아 오 제 크 ㅜ ．５9０５０8０３０３０００6\n",
      "０００００ ‥ ‥ ．．０487 모 배\n",
      "은 고 과 닙의 꼬 인 트 흰 황 입 니 다 , ㅛ ． `\n",
      "\n",
      "그희빌^”포아트 ５\n",
      "\n",
      "7\n",
      "\n",
      "†겨l(가용)포\n",
      "‡ 신 세 계 꼬 인 트 유 효 기 간 은 2너입니\n",
      "\n",
      "빌아 삐삐 겜′쎌〕뺀삐 ㅐ\n"
     ]
    }
   ],
   "source": [
    "def ocr_tesseract():\n",
    "    image_file = 'images/scannedImage8.png'\n",
    "    img = Image.open(image_file)\n",
    "    text = pytesseract.image_to_string(img, lang='kor')\n",
    "    img.show()\n",
    "    \n",
    "    print(text)\n",
    "    \n",
    "\n",
    "ocr_tesseract()"
   ]
  },
  {
   "cell_type": "code",
   "execution_count": null,
   "metadata": {},
   "outputs": [],
   "source": []
  }
 ],
 "metadata": {
  "kernelspec": {
   "display_name": "Python 3",
   "language": "python",
   "name": "python3"
  },
  "language_info": {
   "codemirror_mode": {
    "name": "ipython",
    "version": 3
   },
   "file_extension": ".py",
   "mimetype": "text/x-python",
   "name": "python",
   "nbconvert_exporter": "python",
   "pygments_lexer": "ipython3",
   "version": "3.5.4"
  }
 },
 "nbformat": 4,
 "nbformat_minor": 2
}
